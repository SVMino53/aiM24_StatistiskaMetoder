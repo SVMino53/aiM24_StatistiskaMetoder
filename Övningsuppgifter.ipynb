{
 "cells": [
  {
   "cell_type": "markdown",
   "metadata": {},
   "source": [
    "# Övningsuppgifter"
   ]
  },
  {
   "cell_type": "code",
   "execution_count": 4,
   "metadata": {},
   "outputs": [],
   "source": [
    "import math"
   ]
  },
  {
   "cell_type": "markdown",
   "metadata": {},
   "source": [
    "## Kap 3"
   ]
  },
  {
   "cell_type": "markdown",
   "metadata": {},
   "source": [
    "### 3:1"
   ]
  },
  {
   "cell_type": "code",
   "execution_count": 8,
   "metadata": {},
   "outputs": [],
   "source": [
    "bin_e = lambda n, p: n*p\n",
    "bin_v = lambda n, p: n*p*(1 - p)\n",
    "bin_s = lambda n, p: math.sqrt(bin_v(n, p))\n",
    "bin_p = lambda n, p, x: math.comb(n, x)*p**x*(1 - p)**(n - x)"
   ]
  },
  {
   "cell_type": "code",
   "execution_count": null,
   "metadata": {},
   "outputs": [
    {
     "name": "stdout",
     "output_type": "stream",
     "text": [
      "Väntevärde (E(X)): 4.0\n",
      "Varians (V(X)): 3.2\n",
      "Standardavvikelse (S(E)): 1.7888543819998317\n",
      "P(4 <= X) = 0.5885511380434322\n"
     ]
    }
   ],
   "source": [
    "n = 20\n",
    "p = 0.2\n",
    "\n",
    "print(f\"Väntevärde (E(X)): {bin_e(n, p)}\")\n",
    "print(f\"Varians (V(X)): {bin_v(n, p)}\")\n",
    "print(f\"Standardavvikelse (S(E)): {bin_s(n, p)}\")\n",
    "print(f\"P(X >= 4) = {sum([bin_p(n, p, x) for x in range(4, n + 1)])}\")"
   ]
  },
  {
   "cell_type": "markdown",
   "metadata": {},
   "source": [
    "### 3:2"
   ]
  },
  {
   "cell_type": "code",
   "execution_count": 13,
   "metadata": {},
   "outputs": [
    {
     "name": "stdout",
     "output_type": "stream",
     "text": [
      "Väntevärde (E(X)): 2.4\n",
      "Varians (V(X)): 1.68\n",
      "Standardavvikelse (S(E)): 1.296148139681572\n",
      "P(X <= 2) = 0.5517738099999998\n"
     ]
    }
   ],
   "source": [
    "n = 8\n",
    "p = 0.3\n",
    "\n",
    "print(f\"Väntevärde (E(X)): {bin_e(n, p)}\")\n",
    "print(f\"Varians (V(X)): {bin_v(n, p)}\")\n",
    "print(f\"Standardavvikelse (S(E)): {bin_s(n, p)}\")\n",
    "print(f\"P(X <= 2) = {sum([bin_p(n, p, x) for x in range(3)])}\")"
   ]
  },
  {
   "cell_type": "markdown",
   "metadata": {},
   "source": [
    "### 3:3"
   ]
  },
  {
   "cell_type": "code",
   "execution_count": 14,
   "metadata": {},
   "outputs": [
    {
     "name": "stdout",
     "output_type": "stream",
     "text": [
      "Väntevärde (E(X)): 6.0\n",
      "Varians (V(X)): 2.4000000000000004\n",
      "Standardavvikelse (S(E)): 1.5491933384829668\n",
      "P(2 <= X <= 4) = 0.16456089600000004\n"
     ]
    }
   ],
   "source": [
    "n = 10\n",
    "p = 0.6\n",
    "\n",
    "print(f\"Väntevärde (E(X)): {bin_e(n, p)}\")\n",
    "print(f\"Varians (V(X)): {bin_v(n, p)}\")\n",
    "print(f\"Standardavvikelse (S(E)): {bin_s(n, p)}\")\n",
    "print(f\"P(2 <= X <= 4) = {sum([bin_p(n, p, x) for x in range(2, 5)])}\")"
   ]
  },
  {
   "cell_type": "markdown",
   "metadata": {},
   "source": [
    "### 3:4"
   ]
  },
  {
   "cell_type": "code",
   "execution_count": 20,
   "metadata": {},
   "outputs": [
    {
     "name": "stdout",
     "output_type": "stream",
     "text": [
      "Vi för en binomialfördelning X~B(100, 0.05)\n",
      "Genomsnittligt antal lyckade försäljninger: 5.0\n",
      "Sannolikheten för högst 3 försäljningar: 0.2578386591160153\n"
     ]
    }
   ],
   "source": [
    "n = 100\n",
    "p = 0.05\n",
    "\n",
    "print(\"Vi för en binomialfördelning X~B(100, 0.05)\")\n",
    "print(f\"Genomsnittligt antal lyckade försäljninger: {bin_e(n, p)}\")\n",
    "print(f\"Sannolikheten för högst 3 försäljningar: {sum([bin_p(n, p, x) for x in range(4)])}\")"
   ]
  }
 ],
 "metadata": {
  "kernelspec": {
   "display_name": "databehandling",
   "language": "python",
   "name": "python3"
  },
  "language_info": {
   "codemirror_mode": {
    "name": "ipython",
    "version": 3
   },
   "file_extension": ".py",
   "mimetype": "text/x-python",
   "name": "python",
   "nbconvert_exporter": "python",
   "pygments_lexer": "ipython3",
   "version": "3.12.7"
  }
 },
 "nbformat": 4,
 "nbformat_minor": 2
}
